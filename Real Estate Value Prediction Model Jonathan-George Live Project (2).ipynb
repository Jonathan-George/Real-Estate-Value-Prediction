{
 "cells": [
  {
   "cell_type": "code",
   "execution_count": 1,
   "id": "5d9328ae",
   "metadata": {},
   "outputs": [],
   "source": [
    "from sklearn.model_selection import train_test_split\n",
    "from sklearn.linear_model import LinearRegression\n",
    "from sklearn.metrics import mean_squared_error\n",
    "import pandas as pd"
   ]
  },
  {
   "cell_type": "code",
   "execution_count": 2,
   "id": "1758854d",
   "metadata": {},
   "outputs": [],
   "source": [
    "# Sample data\n",
    "df = pd.read_csv(r\"C:\\Users\\JONATHAN GEORGE\\Downloads\\real_estate_data_chicago.csv\")"
   ]
  },
  {
   "cell_type": "code",
   "execution_count": 3,
   "id": "c747584d",
   "metadata": {},
   "outputs": [
    {
     "name": "stdout",
     "output_type": "stream",
     "text": [
      "            type                                               text  \\\n",
      "0  single_family  Come check out this amazing, move-in ready, 5 ...   \n",
      "1  single_family  Move in ready 2 story Mount Greenwood home on ...   \n",
      "2  single_family  Investor Special MONEY MAKING Gem. This is you...   \n",
      "3  single_family  Renovated Brick 1.5 story house with finished ...   \n",
      "4  single_family  This almost 3000sq foot home was thoughtfully ...   \n",
      "\n",
      "   year_built  beds  baths  baths_full  baths_half  garage  lot_sqft    sqft  \\\n",
      "0      1951.0   4.0    4.0         3.0         1.0     1.0    5615.0  3000.0   \n",
      "1      1922.0   4.0    3.0         2.0         1.0     2.0    6566.0  2900.0   \n",
      "2      1947.0   4.0    2.0         2.0         NaN     3.0    5375.0  1170.0   \n",
      "3      1945.0   4.0    3.0         2.0         1.0     2.0    6138.0  2511.0   \n",
      "4      1907.0   4.0    4.0         2.0         2.0     2.0    8476.0  2870.0   \n",
      "\n",
      "   stories  lastSoldPrice      soldOn  listPrice    status  \n",
      "0      2.0            NaN         NaN   750000.0  for_sale  \n",
      "1      2.0       105000.0  1991-04-16   499900.0  for_sale  \n",
      "2      2.0        60000.0  2019-10-28   325600.0  for_sale  \n",
      "3      2.0       170000.0  1996-05-30   620000.0  for_sale  \n",
      "4      3.0            NaN         NaN   850000.0  for_sale  \n"
     ]
    }
   ],
   "source": [
    "# Display the first few rows of the DataFrame (default is 5 rows)\n",
    "print(df.head())"
   ]
  },
  {
   "cell_type": "code",
   "execution_count": 4,
   "id": "6a68d9cd",
   "metadata": {},
   "outputs": [
    {
     "name": "stdout",
     "output_type": "stream",
     "text": [
      "               type                                               text  \\\n",
      "1     single_family  Move in ready 2 story Mount Greenwood home on ...   \n",
      "3     single_family  Renovated Brick 1.5 story house with finished ...   \n",
      "5     single_family  Welcome to your serene sanctuary overlooking G...   \n",
      "6     single_family  Welcome to your luxurious retreat nestled in t...   \n",
      "8     single_family  Get ready for your HEART TO SKIP a beat! Situa...   \n",
      "...             ...                                                ...   \n",
      "1953  single_family  Back on the market! Come see this well-maintai...   \n",
      "1958  single_family  Truly one of a kind!!! Attention to detail thr...   \n",
      "1961  single_family  Approved short sale in Washington Heights neig...   \n",
      "1967  single_family  Welcome to this lovely updated 3 bedroom, 2.5 ...   \n",
      "1984  single_family  Rarely available Dearborn Park II single famil...   \n",
      "\n",
      "      year_built  beds  baths  baths_full  baths_half  garage  lot_sqft  \\\n",
      "1         1922.0   4.0    3.0         2.0         1.0     2.0    6566.0   \n",
      "3         1945.0   4.0    3.0         2.0         1.0     2.0    6138.0   \n",
      "5         1921.0   4.0    3.0         2.0         1.0     2.0    3811.0   \n",
      "6         2013.0   5.0    5.0         4.0         1.0     2.0    3125.0   \n",
      "8         1956.0   3.0    3.0         2.0         1.0     2.0    4375.0   \n",
      "...          ...   ...    ...         ...         ...     ...       ...   \n",
      "1953      1959.0   3.0    2.0         1.0         1.0     2.0    3751.0   \n",
      "1958      1957.0   3.0    4.0         3.0         1.0     2.0   10725.0   \n",
      "1961      1945.0   2.0    2.0         1.0         1.0     2.0    3872.0   \n",
      "1967      1906.0   3.0    3.0         2.0         1.0     2.0    3125.0   \n",
      "1984      1990.0   4.0    4.0         3.0         1.0     2.0    2625.0   \n",
      "\n",
      "        sqft  stories  lastSoldPrice      soldOn  listPrice    status  \n",
      "1     2900.0      2.0       105000.0  1991-04-16   499900.0  for_sale  \n",
      "3     2511.0      2.0       170000.0  1996-05-30   620000.0  for_sale  \n",
      "5     2800.0      2.0       350000.0  2015-03-25   599000.0  for_sale  \n",
      "6     4200.0      2.0      1267500.0  2015-09-03  1500000.0  for_sale  \n",
      "8     2600.0      1.0       435000.0  2016-04-19   599990.0  for_sale  \n",
      "...      ...      ...            ...         ...        ...       ...  \n",
      "1953  1239.0      1.0        80000.0  1993-07-21   309999.0  for_sale  \n",
      "1958  3336.0      2.0       510500.0  2015-09-10  1250000.0  for_sale  \n",
      "1961  1211.0      2.0        98500.0  2017-06-12   115000.0  for_sale  \n",
      "1967  1426.0      2.0        60000.0  1998-05-27   215000.0  for_sale  \n",
      "1984  3300.0      3.0       344800.0  1995-04-27  1250000.0  for_sale  \n",
      "\n",
      "[173 rows x 15 columns]\n"
     ]
    }
   ],
   "source": [
    "# Drop rows with NaN values\n",
    "dff = df.dropna()\n",
    "\n",
    "print(dff)"
   ]
  },
  {
   "cell_type": "code",
   "execution_count": 5,
   "id": "6a3d5bac",
   "metadata": {},
   "outputs": [],
   "source": [
    "# Assuming 'X' contains features and 'y' contains target variable\n",
    "X = dff[['year_built', 'beds', 'baths', 'garage', 'sqft', 'stories', 'lastSoldPrice','lot_sqft','baths_full']]\n",
    "y = dff['listPrice']"
   ]
  },
  {
   "cell_type": "code",
   "execution_count": 6,
   "id": "a3aa49d8",
   "metadata": {},
   "outputs": [],
   "source": [
    "# Split data into training and testing sets\n",
    "X_train, X_test, y_train, y_test = train_test_split(X, y, test_size=0.2, random_state=42)"
   ]
  },
  {
   "cell_type": "code",
   "execution_count": 7,
   "id": "728ef063",
   "metadata": {},
   "outputs": [
    {
     "data": {
      "text/html": [
       "<style>#sk-container-id-1 {color: black;}#sk-container-id-1 pre{padding: 0;}#sk-container-id-1 div.sk-toggleable {background-color: white;}#sk-container-id-1 label.sk-toggleable__label {cursor: pointer;display: block;width: 100%;margin-bottom: 0;padding: 0.3em;box-sizing: border-box;text-align: center;}#sk-container-id-1 label.sk-toggleable__label-arrow:before {content: \"▸\";float: left;margin-right: 0.25em;color: #696969;}#sk-container-id-1 label.sk-toggleable__label-arrow:hover:before {color: black;}#sk-container-id-1 div.sk-estimator:hover label.sk-toggleable__label-arrow:before {color: black;}#sk-container-id-1 div.sk-toggleable__content {max-height: 0;max-width: 0;overflow: hidden;text-align: left;background-color: #f0f8ff;}#sk-container-id-1 div.sk-toggleable__content pre {margin: 0.2em;color: black;border-radius: 0.25em;background-color: #f0f8ff;}#sk-container-id-1 input.sk-toggleable__control:checked~div.sk-toggleable__content {max-height: 200px;max-width: 100%;overflow: auto;}#sk-container-id-1 input.sk-toggleable__control:checked~label.sk-toggleable__label-arrow:before {content: \"▾\";}#sk-container-id-1 div.sk-estimator input.sk-toggleable__control:checked~label.sk-toggleable__label {background-color: #d4ebff;}#sk-container-id-1 div.sk-label input.sk-toggleable__control:checked~label.sk-toggleable__label {background-color: #d4ebff;}#sk-container-id-1 input.sk-hidden--visually {border: 0;clip: rect(1px 1px 1px 1px);clip: rect(1px, 1px, 1px, 1px);height: 1px;margin: -1px;overflow: hidden;padding: 0;position: absolute;width: 1px;}#sk-container-id-1 div.sk-estimator {font-family: monospace;background-color: #f0f8ff;border: 1px dotted black;border-radius: 0.25em;box-sizing: border-box;margin-bottom: 0.5em;}#sk-container-id-1 div.sk-estimator:hover {background-color: #d4ebff;}#sk-container-id-1 div.sk-parallel-item::after {content: \"\";width: 100%;border-bottom: 1px solid gray;flex-grow: 1;}#sk-container-id-1 div.sk-label:hover label.sk-toggleable__label {background-color: #d4ebff;}#sk-container-id-1 div.sk-serial::before {content: \"\";position: absolute;border-left: 1px solid gray;box-sizing: border-box;top: 0;bottom: 0;left: 50%;z-index: 0;}#sk-container-id-1 div.sk-serial {display: flex;flex-direction: column;align-items: center;background-color: white;padding-right: 0.2em;padding-left: 0.2em;position: relative;}#sk-container-id-1 div.sk-item {position: relative;z-index: 1;}#sk-container-id-1 div.sk-parallel {display: flex;align-items: stretch;justify-content: center;background-color: white;position: relative;}#sk-container-id-1 div.sk-item::before, #sk-container-id-1 div.sk-parallel-item::before {content: \"\";position: absolute;border-left: 1px solid gray;box-sizing: border-box;top: 0;bottom: 0;left: 50%;z-index: -1;}#sk-container-id-1 div.sk-parallel-item {display: flex;flex-direction: column;z-index: 1;position: relative;background-color: white;}#sk-container-id-1 div.sk-parallel-item:first-child::after {align-self: flex-end;width: 50%;}#sk-container-id-1 div.sk-parallel-item:last-child::after {align-self: flex-start;width: 50%;}#sk-container-id-1 div.sk-parallel-item:only-child::after {width: 0;}#sk-container-id-1 div.sk-dashed-wrapped {border: 1px dashed gray;margin: 0 0.4em 0.5em 0.4em;box-sizing: border-box;padding-bottom: 0.4em;background-color: white;}#sk-container-id-1 div.sk-label label {font-family: monospace;font-weight: bold;display: inline-block;line-height: 1.2em;}#sk-container-id-1 div.sk-label-container {text-align: center;}#sk-container-id-1 div.sk-container {/* jupyter's `normalize.less` sets `[hidden] { display: none; }` but bootstrap.min.css set `[hidden] { display: none !important; }` so we also need the `!important` here to be able to override the default hidden behavior on the sphinx rendered scikit-learn.org. See: https://github.com/scikit-learn/scikit-learn/issues/21755 */display: inline-block !important;position: relative;}#sk-container-id-1 div.sk-text-repr-fallback {display: none;}</style><div id=\"sk-container-id-1\" class=\"sk-top-container\"><div class=\"sk-text-repr-fallback\"><pre>LinearRegression()</pre><b>In a Jupyter environment, please rerun this cell to show the HTML representation or trust the notebook. <br />On GitHub, the HTML representation is unable to render, please try loading this page with nbviewer.org.</b></div><div class=\"sk-container\" hidden><div class=\"sk-item\"><div class=\"sk-estimator sk-toggleable\"><input class=\"sk-toggleable__control sk-hidden--visually\" id=\"sk-estimator-id-1\" type=\"checkbox\" checked><label for=\"sk-estimator-id-1\" class=\"sk-toggleable__label sk-toggleable__label-arrow\">LinearRegression</label><div class=\"sk-toggleable__content\"><pre>LinearRegression()</pre></div></div></div></div></div>"
      ],
      "text/plain": [
       "LinearRegression()"
      ]
     },
     "execution_count": 7,
     "metadata": {},
     "output_type": "execute_result"
    }
   ],
   "source": [
    "# Create and train the model\n",
    "model = LinearRegression()\n",
    "model.fit(X_train, y_train)"
   ]
  },
  {
   "cell_type": "code",
   "execution_count": 8,
   "id": "59719862",
   "metadata": {},
   "outputs": [],
   "source": [
    "# Make predictions\n",
    "predictions = model.predict(X_test)"
   ]
  },
  {
   "cell_type": "code",
   "execution_count": 9,
   "id": "49c1f7e5",
   "metadata": {},
   "outputs": [
    {
     "name": "stdout",
     "output_type": "stream",
     "text": [
      "R-squared: 0.8979711069743888\n"
     ]
    }
   ],
   "source": [
    "from sklearn.metrics import r2_score\n",
    "r_squared = r2_score(y_test, predictions)\n",
    "print(\"R-squared:\", r_squared)"
   ]
  },
  {
   "cell_type": "code",
   "execution_count": 10,
   "id": "d83d5320",
   "metadata": {},
   "outputs": [],
   "source": [
    "from sklearn.metrics import mean_absolute_error, mean_squared_error, r2_score"
   ]
  },
  {
   "cell_type": "code",
   "execution_count": 11,
   "id": "d019043b",
   "metadata": {},
   "outputs": [
    {
     "name": "stdout",
     "output_type": "stream",
     "text": [
      "Mean Absolute Error: 312817.7413958308\n",
      "Root Mean Squared Error: 446422.82648518623\n"
     ]
    }
   ],
   "source": [
    "mae = mean_absolute_error(y_test, predictions)\n",
    "rmse = mean_squared_error(y_test, predictions, squared=False)\n",
    "\n",
    "print(\"Mean Absolute Error:\", mae)\n",
    "print(\"Root Mean Squared Error:\", rmse)"
   ]
  },
  {
   "cell_type": "code",
   "execution_count": 12,
   "id": "d99a91c5",
   "metadata": {},
   "outputs": [],
   "source": [
    "from sklearn.metrics import mean_squared_error\n",
    "import numpy as np"
   ]
  },
  {
   "cell_type": "code",
   "execution_count": 13,
   "id": "5db4f19e",
   "metadata": {},
   "outputs": [],
   "source": [
    "# Assuming y_test is the actual target values from your test set\n",
    "\n",
    "# Calculate the mean of y_test (baseline prediction)\n",
    "baseline_prediction = np.mean(y_test)"
   ]
  },
  {
   "cell_type": "code",
   "execution_count": 14,
   "id": "6f8b117f",
   "metadata": {},
   "outputs": [],
   "source": [
    "# Create an array of the same length as y_test filled with the mean value\n",
    "baseline_predictions = np.full_like(y_test, fill_value=baseline_prediction)"
   ]
  },
  {
   "cell_type": "code",
   "execution_count": 15,
   "id": "16598bdd",
   "metadata": {},
   "outputs": [],
   "source": [
    "# Calculate RMSE for the baseline model\n",
    "baseline_rmse = mean_squared_error(y_test, baseline_predictions, squared=False)"
   ]
  },
  {
   "cell_type": "code",
   "execution_count": 16,
   "id": "3c01ff14",
   "metadata": {},
   "outputs": [],
   "source": [
    "# Assuming y_pred is the predictions made by your model\n",
    "# Calculate RMSE for your model\n",
    "model_rmse = mean_squared_error(y_test, predictions, squared=False)"
   ]
  },
  {
   "cell_type": "code",
   "execution_count": 17,
   "id": "ad12efe7",
   "metadata": {},
   "outputs": [
    {
     "name": "stdout",
     "output_type": "stream",
     "text": [
      "Baseline RMSE: 1397606.157791332\n",
      "Model RMSE: 446422.82648518623\n"
     ]
    }
   ],
   "source": [
    "# Print RMSE values for comparison\n",
    "print(\"Baseline RMSE:\", baseline_rmse)\n",
    "print(\"Model RMSE:\", model_rmse)"
   ]
  },
  {
   "cell_type": "code",
   "execution_count": 18,
   "id": "8843f611",
   "metadata": {},
   "outputs": [
    {
     "name": "stdout",
     "output_type": "stream",
     "text": [
      "Model performs better than baseline.\n"
     ]
    }
   ],
   "source": [
    "# Compare RMSE values\n",
    "if model_rmse < baseline_rmse:\n",
    "    print(\"Model performs better than baseline.\")\n",
    "elif model_rmse > baseline_rmse:\n",
    "    print(\"Model performs worse than baseline.\")\n",
    "else:\n",
    "    print(\"Model performs equally to baseline.\")"
   ]
  },
  {
   "cell_type": "code",
   "execution_count": 19,
   "id": "ddfdca31",
   "metadata": {},
   "outputs": [
    {
     "name": "stdout",
     "output_type": "stream",
     "text": [
      "Coefficients: [-1.24638624e+03  4.27891697e+04  1.06925815e+05  2.88471780e+05\n",
      "  3.22917826e+02 -1.28851648e+05  6.31681071e-01 -4.79411785e+01\n",
      " -5.64196731e+04]\n",
      "Intercept: 1652837.7098790738\n"
     ]
    }
   ],
   "source": [
    "# Get the coefficients\n",
    "coefficients = model.coef_\n",
    "intercept = model.intercept_\n",
    "\n",
    "print(\"Coefficients:\", coefficients)\n",
    "print(\"Intercept:\", intercept)"
   ]
  },
  {
   "cell_type": "code",
   "execution_count": null,
   "id": "f7ea9098",
   "metadata": {},
   "outputs": [],
   "source": []
  }
 ],
 "metadata": {
  "kernelspec": {
   "display_name": "Python 3 (ipykernel)",
   "language": "python",
   "name": "python3"
  },
  "language_info": {
   "codemirror_mode": {
    "name": "ipython",
    "version": 3
   },
   "file_extension": ".py",
   "mimetype": "text/x-python",
   "name": "python",
   "nbconvert_exporter": "python",
   "pygments_lexer": "ipython3",
   "version": "3.11.5"
  }
 },
 "nbformat": 4,
 "nbformat_minor": 5
}
